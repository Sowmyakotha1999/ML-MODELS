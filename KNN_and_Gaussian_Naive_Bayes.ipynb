{
  "nbformat": 4,
  "nbformat_minor": 0,
  "metadata": {
    "colab": {
      "provenance": []
    },
    "kernelspec": {
      "name": "python3",
      "display_name": "Python 3"
    },
    "language_info": {
      "name": "python"
    }
  },
  "cells": [
    {
      "cell_type": "markdown",
      "source": [
        "Step 1: Load the digits classification dataset\n",
        "https://scikitlearn.\n",
        "org/stable/modules/generated/sklearn.datasets.load_digits.htmlLinks to an\n",
        "external site."
      ],
      "metadata": {
        "id": "PDn5mp3IcB-h"
      }
    },
    {
      "cell_type": "code",
      "source": [
        "from sklearn.datasets import load_digits\n",
        "\n",
        "# Loading the digits dataset\n",
        "Load_digits_dataset = load_digits()\n",
        "Load_digits_dataset"
      ],
      "metadata": {
        "id": "jq2TdLDRb_mz",
        "colab": {
          "base_uri": "https://localhost:8080/"
        },
        "outputId": "2af3f5dc-0f5e-4d0b-db36-c2e1030d1f06"
      },
      "execution_count": 7,
      "outputs": [
        {
          "output_type": "execute_result",
          "data": {
            "text/plain": [
              "{'data': array([[ 0.,  0.,  5., ...,  0.,  0.,  0.],\n",
              "        [ 0.,  0.,  0., ..., 10.,  0.,  0.],\n",
              "        [ 0.,  0.,  0., ..., 16.,  9.,  0.],\n",
              "        ...,\n",
              "        [ 0.,  0.,  1., ...,  6.,  0.,  0.],\n",
              "        [ 0.,  0.,  2., ..., 12.,  0.,  0.],\n",
              "        [ 0.,  0., 10., ..., 12.,  1.,  0.]]),\n",
              " 'target': array([0, 1, 2, ..., 8, 9, 8]),\n",
              " 'frame': None,\n",
              " 'feature_names': ['pixel_0_0',\n",
              "  'pixel_0_1',\n",
              "  'pixel_0_2',\n",
              "  'pixel_0_3',\n",
              "  'pixel_0_4',\n",
              "  'pixel_0_5',\n",
              "  'pixel_0_6',\n",
              "  'pixel_0_7',\n",
              "  'pixel_1_0',\n",
              "  'pixel_1_1',\n",
              "  'pixel_1_2',\n",
              "  'pixel_1_3',\n",
              "  'pixel_1_4',\n",
              "  'pixel_1_5',\n",
              "  'pixel_1_6',\n",
              "  'pixel_1_7',\n",
              "  'pixel_2_0',\n",
              "  'pixel_2_1',\n",
              "  'pixel_2_2',\n",
              "  'pixel_2_3',\n",
              "  'pixel_2_4',\n",
              "  'pixel_2_5',\n",
              "  'pixel_2_6',\n",
              "  'pixel_2_7',\n",
              "  'pixel_3_0',\n",
              "  'pixel_3_1',\n",
              "  'pixel_3_2',\n",
              "  'pixel_3_3',\n",
              "  'pixel_3_4',\n",
              "  'pixel_3_5',\n",
              "  'pixel_3_6',\n",
              "  'pixel_3_7',\n",
              "  'pixel_4_0',\n",
              "  'pixel_4_1',\n",
              "  'pixel_4_2',\n",
              "  'pixel_4_3',\n",
              "  'pixel_4_4',\n",
              "  'pixel_4_5',\n",
              "  'pixel_4_6',\n",
              "  'pixel_4_7',\n",
              "  'pixel_5_0',\n",
              "  'pixel_5_1',\n",
              "  'pixel_5_2',\n",
              "  'pixel_5_3',\n",
              "  'pixel_5_4',\n",
              "  'pixel_5_5',\n",
              "  'pixel_5_6',\n",
              "  'pixel_5_7',\n",
              "  'pixel_6_0',\n",
              "  'pixel_6_1',\n",
              "  'pixel_6_2',\n",
              "  'pixel_6_3',\n",
              "  'pixel_6_4',\n",
              "  'pixel_6_5',\n",
              "  'pixel_6_6',\n",
              "  'pixel_6_7',\n",
              "  'pixel_7_0',\n",
              "  'pixel_7_1',\n",
              "  'pixel_7_2',\n",
              "  'pixel_7_3',\n",
              "  'pixel_7_4',\n",
              "  'pixel_7_5',\n",
              "  'pixel_7_6',\n",
              "  'pixel_7_7'],\n",
              " 'target_names': array([0, 1, 2, 3, 4, 5, 6, 7, 8, 9]),\n",
              " 'images': array([[[ 0.,  0.,  5., ...,  1.,  0.,  0.],\n",
              "         [ 0.,  0., 13., ..., 15.,  5.,  0.],\n",
              "         [ 0.,  3., 15., ..., 11.,  8.,  0.],\n",
              "         ...,\n",
              "         [ 0.,  4., 11., ..., 12.,  7.,  0.],\n",
              "         [ 0.,  2., 14., ..., 12.,  0.,  0.],\n",
              "         [ 0.,  0.,  6., ...,  0.,  0.,  0.]],\n",
              " \n",
              "        [[ 0.,  0.,  0., ...,  5.,  0.,  0.],\n",
              "         [ 0.,  0.,  0., ...,  9.,  0.,  0.],\n",
              "         [ 0.,  0.,  3., ...,  6.,  0.,  0.],\n",
              "         ...,\n",
              "         [ 0.,  0.,  1., ...,  6.,  0.,  0.],\n",
              "         [ 0.,  0.,  1., ...,  6.,  0.,  0.],\n",
              "         [ 0.,  0.,  0., ..., 10.,  0.,  0.]],\n",
              " \n",
              "        [[ 0.,  0.,  0., ..., 12.,  0.,  0.],\n",
              "         [ 0.,  0.,  3., ..., 14.,  0.,  0.],\n",
              "         [ 0.,  0.,  8., ..., 16.,  0.,  0.],\n",
              "         ...,\n",
              "         [ 0.,  9., 16., ...,  0.,  0.,  0.],\n",
              "         [ 0.,  3., 13., ..., 11.,  5.,  0.],\n",
              "         [ 0.,  0.,  0., ..., 16.,  9.,  0.]],\n",
              " \n",
              "        ...,\n",
              " \n",
              "        [[ 0.,  0.,  1., ...,  1.,  0.,  0.],\n",
              "         [ 0.,  0., 13., ...,  2.,  1.,  0.],\n",
              "         [ 0.,  0., 16., ..., 16.,  5.,  0.],\n",
              "         ...,\n",
              "         [ 0.,  0., 16., ..., 15.,  0.,  0.],\n",
              "         [ 0.,  0., 15., ..., 16.,  0.,  0.],\n",
              "         [ 0.,  0.,  2., ...,  6.,  0.,  0.]],\n",
              " \n",
              "        [[ 0.,  0.,  2., ...,  0.,  0.,  0.],\n",
              "         [ 0.,  0., 14., ..., 15.,  1.,  0.],\n",
              "         [ 0.,  4., 16., ..., 16.,  7.,  0.],\n",
              "         ...,\n",
              "         [ 0.,  0.,  0., ..., 16.,  2.,  0.],\n",
              "         [ 0.,  0.,  4., ..., 16.,  2.,  0.],\n",
              "         [ 0.,  0.,  5., ..., 12.,  0.,  0.]],\n",
              " \n",
              "        [[ 0.,  0., 10., ...,  1.,  0.,  0.],\n",
              "         [ 0.,  2., 16., ...,  1.,  0.,  0.],\n",
              "         [ 0.,  0., 15., ..., 15.,  0.,  0.],\n",
              "         ...,\n",
              "         [ 0.,  4., 16., ..., 16.,  6.,  0.],\n",
              "         [ 0.,  8., 16., ..., 16.,  8.,  0.],\n",
              "         [ 0.,  1.,  8., ..., 12.,  1.,  0.]]]),\n",
              " 'DESCR': \".. _digits_dataset:\\n\\nOptical recognition of handwritten digits dataset\\n--------------------------------------------------\\n\\n**Data Set Characteristics:**\\n\\n    :Number of Instances: 1797\\n    :Number of Attributes: 64\\n    :Attribute Information: 8x8 image of integer pixels in the range 0..16.\\n    :Missing Attribute Values: None\\n    :Creator: E. Alpaydin (alpaydin '@' boun.edu.tr)\\n    :Date: July; 1998\\n\\nThis is a copy of the test set of the UCI ML hand-written digits datasets\\nhttps://archive.ics.uci.edu/ml/datasets/Optical+Recognition+of+Handwritten+Digits\\n\\nThe data set contains images of hand-written digits: 10 classes where\\neach class refers to a digit.\\n\\nPreprocessing programs made available by NIST were used to extract\\nnormalized bitmaps of handwritten digits from a preprinted form. From a\\ntotal of 43 people, 30 contributed to the training set and different 13\\nto the test set. 32x32 bitmaps are divided into nonoverlapping blocks of\\n4x4 and the number of on pixels are counted in each block. This generates\\nan input matrix of 8x8 where each element is an integer in the range\\n0..16. This reduces dimensionality and gives invariance to small\\ndistortions.\\n\\nFor info on NIST preprocessing routines, see M. D. Garris, J. L. Blue, G.\\nT. Candela, D. L. Dimmick, J. Geist, P. J. Grother, S. A. Janet, and C.\\nL. Wilson, NIST Form-Based Handprint Recognition System, NISTIR 5469,\\n1994.\\n\\n.. topic:: References\\n\\n  - C. Kaynak (1995) Methods of Combining Multiple Classifiers and Their\\n    Applications to Handwritten Digit Recognition, MSc Thesis, Institute of\\n    Graduate Studies in Science and Engineering, Bogazici University.\\n  - E. Alpaydin, C. Kaynak (1998) Cascading Classifiers, Kybernetika.\\n  - Ken Tang and Ponnuthurai N. Suganthan and Xi Yao and A. Kai Qin.\\n    Linear dimensionalityreduction using relevance weighted LDA. School of\\n    Electrical and Electronic Engineering Nanyang Technological University.\\n    2005.\\n  - Claudio Gentile. A New Approximate Maximal Margin Classification\\n    Algorithm. NIPS. 2000.\\n\"}"
            ]
          },
          "metadata": {},
          "execution_count": 7
        }
      ]
    },
    {
      "cell_type": "markdown",
      "source": [
        "# Explanation : The load_digits function from sklearn.datasets module is used to load the digits dataset from sklearn datasets. This dataset contains handwritten digits images, which are commonly used for classification tasks. So here i have used this dataset"
      ],
      "metadata": {
        "id": "IeWgH0BE4vjc"
      }
    },
    {
      "cell_type": "markdown",
      "source": [
        "\n",
        "Step 2: Split the data into training and testing sets. Use \"from sklearn.model_selection\n",
        "import train_test_split\" for doing this (you can choose 80% as training and 20% as test\n",
        "data)\n",
        "\n"
      ],
      "metadata": {
        "id": "ed7uqu8ocDew"
      }
    },
    {
      "cell_type": "code",
      "source": [
        "from sklearn.model_selection import train_test_split\n",
        "\n",
        "X_train, X_test, y_train, y_test = train_test_split(Load_digits_dataset.data, Load_digits_dataset.target, test_size=0.2, random_state=42)\n"
      ],
      "metadata": {
        "id": "ICwRT6GucDsK"
      },
      "execution_count": 8,
      "outputs": []
    },
    {
      "cell_type": "markdown",
      "source": [
        "# Explanation: The train_test_split function from sklearn.model_selection module is used to split the dataset into training and testing sets. Here, 80% of the data is used for training and 20% for testing.According to the given question"
      ],
      "metadata": {
        "id": "qLRFFerz47lJ"
      }
    },
    {
      "cell_type": "code",
      "source": [
        "from sklearn.neighbors import KNeighborsClassifier\n",
        "\n",
        "# Fit KNN classifier\n",
        "knn_classifier = KNeighborsClassifier(n_neighbors=5)\n",
        "knn_classifier.fit(X_train, y_train)\n",
        "\n",
        "\n",
        "# Select test images corresponding to digits 0, 6, and 8\n",
        "Test_image_0 = X_test[y_test == 0][0]\n",
        "Test_image_6 = X_test[y_test == 6][0]\n",
        "Test_image_8 = X_test[y_test == 8][0]\n",
        "\n",
        "# Determine the neighbors for each test image\n",
        "neighbors_0 = knn_classifier.kneighbors([Test_image_0], return_distance=False)\n",
        "neighbors_6 = knn_classifier.kneighbors([Test_image_6], return_distance=False)\n",
        "neighbors_8 = knn_classifier.kneighbors([Test_image_8], return_distance=False)\n"
      ],
      "metadata": {
        "id": "l5vDByU1cEIO"
      },
      "execution_count": 9,
      "outputs": []
    },
    {
      "cell_type": "markdown",
      "source": [
        "# Explanation:The KNeighborsClassifier from sklearn.neighbors module is used to create a KNN classifier with n_neighbors=5. The classifier is then trained on the training data.\n",
        "\n",
        "\n"
      ],
      "metadata": {
        "id": "6ZPi80qy5IIl"
      }
    },
    {
      "cell_type": "markdown",
      "source": [],
      "metadata": {
        "id": "Jt5lliNccEUv"
      }
    },
    {
      "cell_type": "code",
      "source": [
        "import matplotlib.pyplot as plt\n",
        "\n",
        "# Function  for plotting the image\n",
        "def plotting_the_image_of_digits(image, title):\n",
        "    plt.figure(figsize=(4, 4))\n",
        "    plt.imshow(image.reshape(8, 8), cmap='gray')\n",
        "    plt.title(title)\n",
        "    plt.axis('off')\n",
        "    plt.show()\n",
        "\n",
        "# Function to plot images and their neighborhoods\n",
        "def plotting_the_neighbors_of_digits(images, title):\n",
        "    plt.figure(figsize=(15, 4))\n",
        "    for i, image in enumerate(images):\n",
        "        plt.subplot(1, len(images), i + 1)\n",
        "        plt.imshow(image.reshape(8, 8), cmap='gray')\n",
        "        plt.title(f'Neighbor {i + 1}')\n",
        "        plt.axis('off')\n",
        "    plt.suptitle(title)\n",
        "    plt.show()\n",
        "\n",
        "# Display the test images and their neighborhoods\n",
        "plotting_the_image_of_digits(Test_image_0, 'Test Image: Digit 0')\n",
        "plotting_the_neighbors_of_digits(X_train[neighbors_0[0]], 'Neighborhoods of Digit 0')\n",
        "\n",
        "plotting_the_image_of_digits(Test_image_6, 'Test Image: Digit 6')\n",
        "plotting_the_neighbors_of_digits(X_train[neighbors_6[0]], 'Neighborhoods of Digit 6')\n",
        "\n",
        "plotting_the_image_of_digits(Test_image_8, 'Test Image: Digit 8')\n",
        "plotting_the_neighbors_of_digits(X_train[neighbors_8[0]], 'Neighborhoods of Digit 8')\n",
        "\n",
        "\n"
      ],
      "metadata": {
        "colab": {
          "base_uri": "https://localhost:8080/",
          "height": 1000
        },
        "id": "1lYrImDj2sAx",
        "outputId": "af065437-750a-4ce2-a175-b101428ec2cf"
      },
      "execution_count": 10,
      "outputs": [
        {
          "output_type": "display_data",
          "data": {
            "text/plain": [
              "<Figure size 400x400 with 1 Axes>"
            ],
            "image/png": "[encoded data removed]"
          },
          "metadata": {}
        },
        {
          "output_type": "display_data",
          "data": {
            "text/plain": [
              "<Figure size 1500x400 with 5 Axes>"
            ],
            "image/png": "[encoded data removed]"
          },
          "metadata": {}
        },
        {
          "output_type": "display_data",
          "data": {
            "text/plain": [
              "<Figure size 400x400 with 1 Axes>"
            ],
            "image/png": "[encoded data removed]"
          },
          "metadata": {}
        },
        {
          "output_type": "display_data",
          "data": {
            "text/plain": [
              "<Figure size 1500x400 with 5 Axes>"
            ],
            "image/png": "[encoded data removed]"
          },
          "metadata": {}
        },
        {
          "output_type": "display_data",
          "data": {
            "text/plain": [
              "<Figure size 400x400 with 1 Axes>"
            ],
            "image/png": "[encoded data removed]"
          },
          "metadata": {}
        },
        {
          "output_type": "display_data",
          "data": {
            "text/plain": [
              "<Figure size 1500x400 with 5 Axes>"
            ],
            "image/png": "[encoded data removed]"
          },
          "metadata": {}
        }
      ]
    },
    {
      "cell_type": "markdown",
      "source": [
        "# Explanation: For each test image, the kneighbors function of the KNN classifier is used to find the indices of the K-nearest neighbors in the training set. Then, these neighbors are plotted along with the corresponding test images using imshow function from matplotlib.pyplot.\n",
        "*   In this step , the neighborhoods of the test images revealed meaningful patterns. For instance, the neighborhoods of digits 0, 6, and 8 contained images with similar structural features, indicative of the KNN algorithm effectively identifying images with resembling shapes. This suggests the algorithm's capability in capturing similarities among digits.\n",
        "\n"
      ],
      "metadata": {
        "id": "yknQuEnZ5_cX"
      }
    },
    {
      "cell_type": "code",
      "source": [
        "from sklearn.naive_bayes import GaussianNB\n",
        "from sklearn.model_selection import cross_validate\n",
        "from sklearn.metrics import f1_score\n",
        "import numpy as np\n",
        "\n",
        "# here is the Gaussian Naive Bayes\n",
        "Gaussian_naive_bayes = GaussianNB()\n",
        "Gaussian_naive_bayes_cv_scores = cross_validate(Gaussian_naive_bayes, Load_digits_dataset.data, Load_digits_dataset.target, cv=5, scoring='f1_macro')\n",
        "\n",
        "# here is the knn_classifier where K=3\n",
        "knn_classifier = KNeighborsClassifier(n_neighbors=3)\n",
        "knn_classifier_cv_scores = cross_validate(knn_classifier, Load_digits_dataset.data, Load_digits_dataset.target, cv=5, scoring='f1_macro')\n",
        "\n",
        "# Print average F1 scores\n",
        "print(\"Printing the averge F1 scores for Gaussian and KNN\")\n",
        "print(\"Gaussian Naive Bayes CV F1 Score:\", np.mean(Gaussian_naive_bayes_cv_scores['test_score']))\n",
        "print(\"knn_classifier (K=3) CV F1 Score:\", np.mean(knn_classifier_cv_scores['test_score']))\n"
      ],
      "metadata": {
        "colab": {
          "base_uri": "https://localhost:8080/"
        },
        "id": "BNluuLCGdIvT",
        "outputId": "ecbd4ca5-259a-4e47-b8e4-1c08c14ad179"
      },
      "execution_count": 11,
      "outputs": [
        {
          "output_type": "stream",
          "name": "stdout",
          "text": [
            "Printing the averge F1 scores for Gaussian and KNN\n",
            "Gaussian Naive Bayes CV F1 Score: 0.8053770473028571\n",
            "knn_classifier (K=3) CV F1 Score: 0.9665429035073627\n"
          ]
        }
      ]
    },
    {
      "cell_type": "markdown",
      "source": [],
      "metadata": {
        "id": "X__GY0Go61x5"
      }
    },
    {
      "cell_type": "markdown",
      "source": [
        "# Explanation: The GaussianNB class from sklearn.naive_bayes module is used to create a Gaussian Naive Bayes classifier, which is then evaluated using 5-fold cross-validation. Similarly, the KNN classifier with n_neighbors=3 is evaluated using 5-fold cross-validation."
      ],
      "metadata": {
        "id": "Q6UQN5O4dYHn"
      }
    },
    {
      "cell_type": "markdown",
      "source": [
        " # *     The Gaussian Naive Bayes classifier achieved an average F1 score of approximately 0.805, while the KNN classifier with K=3 achieved a significantly higher average F1 score of approximately 0.967.\n",
        " # *     This indicates that the KNN classifier outperformed the Gaussian Naive Bayes classifier in terms of classification accuracy on the digits dataset."
      ],
      "metadata": {
        "id": "MI6BPDym7EMG"
      }
    }
  ]
}